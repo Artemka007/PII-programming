{
 "cells": [
  {
   "cell_type": "markdown",
   "metadata": {
    "id": "GEsFKJm-ABFp"
   },
   "source": [
    "**ФИО:**"
   ]
  },
  {
   "cell_type": "code",
   "execution_count": null,
   "metadata": {
    "id": "wZMLYG_G_-19"
   },
   "outputs": [],
   "source": [
    "Копылов Артем Александрович"
   ]
  },
  {
   "cell_type": "markdown",
   "metadata": {
    "id": "H4DrYnJjADuZ"
   },
   "source": [
    "# Задание 1"
   ]
  },
  {
   "cell_type": "markdown",
   "metadata": {
    "id": "C17FWep-AF4a"
   },
   "source": [
    "**Описание:** Создайте иерархию классов для разных типов сотрудников в компании. Реализуйте родительский класс Employee и дочерние классы Manager и Developer. Каждый класс должен иметь метод для расчета зарплаты на основе различных критериев класса.\n",
    "\n",
    "\n",
    "Отрабатываемый принцип: Наследование\n",
    "\n"
   ]
  },
  {
   "cell_type": "code",
   "execution_count": null,
   "metadata": {
    "id": "aexGXzqCAFH7"
   },
   "outputs": [],
   "source": [
    "class Employee:\n",
    "    def __init__(self, creets):\n",
    "        self.creets = creets\n",
    "\n",
    "    def count(self):\n",
    "        ... # count by self.creets\n",
    "\n",
    "\n",
    "class Manager(Employee):\n",
    "    def count(self):\n",
    "        ... # count by self.creets\n",
    "\n",
    "\n",
    "class Developer(Employee):\n",
    "    def count(self):\n",
    "        ... # count by self.creets\n"
   ]
  },
  {
   "cell_type": "markdown",
   "metadata": {
    "id": "ERAi0TG5BI6v"
   },
   "source": [
    "# Задание 2"
   ]
  },
  {
   "cell_type": "markdown",
   "metadata": {
    "id": "sJ3k7ZcgBK87"
   },
   "source": [
    "**Описание:** Создайте иерархию классов для различных типов транспортных средств (Необходим один родительский класс и 3 дочерних). Реализуйте метод, который позволяет каждому транспортному средству возвращать собственное описание (Метод в каждом классе должен иметь одинаковое название). Продемонстрируйте вызов данного метода для каждого транспортного средства.\n",
    "\n",
    "\n",
    "Отрабатываемый принцип: Полиморфизм"
   ]
  },
  {
   "cell_type": "code",
   "execution_count": null,
   "metadata": {
    "id": "WOFOZQmDBKf4"
   },
   "outputs": [],
   "source": [
    "class Transport:\n",
    "    def __str__(self):\n",
    "        return 'Transport class'\n",
    "\n",
    "\n",
    "class Car(Transport):\n",
    "    def __str__(self):\n",
    "        return 'Car child class'\n",
    "\n",
    "\n",
    "class Mercedez(Car):\n",
    "    def __str__(self):\n",
    "        return 'Car child Mercedez child class'\n",
    "\n",
    "\n",
    "class Tractor(Transport):\n",
    "    def __str__(self):\n",
    "        return 'Tractor child class'\n",
    "\n",
    "\n",
    "print(str(Transport()))\n",
    "print(str(Car()))\n",
    "print(str(Mercedez()))\n",
    "print(str(Tractor()))"
   ]
  },
  {
   "cell_type": "markdown",
   "metadata": {
    "id": "7E_SJXMJBvD4"
   },
   "source": [
    "# Задание 3"
   ]
  },
  {
   "cell_type": "markdown",
   "metadata": {
    "id": "dd1mwKj_BxHa"
   },
   "source": [
    "Онлайн-магазин:\n",
    "- Создайте модель для онлайн-магазина с классами Product, Order, Customer, и ShoppingCart.\n",
    "- Product включает информацию о цене, наличии на складе и категории товара.\n",
    "Order обрабатывает процесс покупки, включая расчет цены с учетом скидок и налогов.\n",
    "- Customer управляет информацией о пользователе и его истории заказов.\n",
    "- ShoppingCart позволяет добавлять, удалять и обновлять количество товаров перед оформлением заказа.\n"
   ]
  },
  {
   "cell_type": "code",
   "execution_count": null,
   "metadata": {
    "id": "wkCcv_K-Bwdv"
   },
   "outputs": [],
   "source": [
    "class Product:\n",
    "    def __init__(self, price, stock, availability, categories):\n",
    "        self.price = price\n",
    "        self.stock = stock\n",
    "        self.availability = availability\n",
    "        self.categories = categories\n",
    "\n",
    "\n",
    "class Order:\n",
    "    def __init__(self, discount, taxes):\n",
    "        self.discount = discount\n",
    "        self.taxes = taxes\n",
    "\n",
    "    def buy(self, total_sum):\n",
    "        return total_sum * self.discount / 100 + self.taxes\n",
    "\n",
    "\n",
    "class Customer:\n",
    "    def __init__(self, customer_name):\n",
    "        self.customer_name = customer_name\n",
    "        self.oredering_history = []\n",
    "\n",
    "    def make_order(self, order):\n",
    "        self.oredering_history.append(order)\n",
    "\n",
    "\n",
    "class ShoppingCart:\n",
    "    def __init__(self):\n",
    "        self.products = []\n",
    "\n",
    "    def add(self, product):\n",
    "        self.products.append(product)\n",
    "\n",
    "    def remove(self, product_id):\n",
    "        self.products = [\n",
    "            i for key, i in enumerate(self.products) if key != product_id\n",
    "        ]"
   ]
  },
  {
   "cell_type": "markdown",
   "metadata": {
    "id": "ih7iPlYfB7lL"
   },
   "source": [
    "# Задание 4"
   ]
  },
  {
   "cell_type": "markdown",
   "metadata": {
    "id": "zLwqVCbpCBvc"
   },
   "source": [
    "Симулятор космического корабля:\n",
    "- Создайте симулятор управления космическим кораблем с классами SpaceShip, CrewMember, и Mission.\n",
    "- SpaceShip имеет атрибуты для управления топливом, состоянием корпуса, и текущей скоростью.\n",
    "- CrewMember контролирует здоровье, навыки, и роли в команде (например, пилот, инженер).\n",
    "- Mission определяет цели, ресурсы, и возможные события (например, аварии, встречи с астероидами)."
   ]
  },
  {
   "cell_type": "code",
   "execution_count": null,
   "metadata": {
    "id": "4NyrOOy8B9ED"
   },
   "outputs": [],
   "source": []
  },
  {
   "cell_type": "markdown",
   "metadata": {
    "id": "F7mRVsZjCXk0"
   },
   "source": [
    "# Дополнительно:"
   ]
  },
  {
   "cell_type": "markdown",
   "metadata": {
    "id": "X4Lkf86UCc1h"
   },
   "source": [
    "**Описание:** создайте консольную версию игры крестики-нолики, используя классы"
   ]
  },
  {
   "cell_type": "code",
   "execution_count": null,
   "metadata": {
    "id": "x9OxpNsyCcUo"
   },
   "outputs": [],
   "source": []
  }
 ],
 "metadata": {
  "colab": {
   "provenance": [
    {
     "file_id": "1xLO6Oh-eS6h_nR38EhRfJqe9zaaxR6wD",
     "timestamp": 1733157670495
    },
    {
     "file_id": "1fdDdDHaE4KNBgvMIfCjJ2U7NY_5A7bzr",
     "timestamp": 1732780503194
    }
   ]
  },
  "kernelspec": {
   "display_name": "Python 3",
   "name": "python3"
  },
  "language_info": {
   "name": "python"
  }
 },
 "nbformat": 4,
 "nbformat_minor": 0
}
